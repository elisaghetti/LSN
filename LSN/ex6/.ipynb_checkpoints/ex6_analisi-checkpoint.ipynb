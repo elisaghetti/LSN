{
 "cells": [
  {
   "cell_type": "code",
   "execution_count": 38,
   "id": "16f51f59-4dc5-4139-9a58-c512909e4aa8",
   "metadata": {},
   "outputs": [],
   "source": [
    "import matplotlib\n",
    "import matplotlib.pyplot as plt\n",
    "import numpy as np\n",
    "import pandas as pd"
   ]
  },
  {
   "cell_type": "code",
   "execution_count": 39,
   "id": "3158e4e6-38bf-4d4b-985f-e987c872c621",
   "metadata": {},
   "outputs": [],
   "source": [
    "points=100\n",
    "T = np.linspace(0.2,2.2,num=points)\n",
    "beta = 1/T\n",
    "J = 1.0\n",
    "Ns = 50\n",
    "th = np.tanh(J/T)\n",
    "thN= th**Ns\n",
    "ch = 1/th\n",
    "\n",
    "e = -J*( th + ch*thN )/( 1 + thN )\n"
   ]
  },
  {
   "cell_type": "markdown",
   "id": "781a0ee7-a256-432f-8243-df9dfd55079a",
   "metadata": {},
   "source": [
    "## Metropolis "
   ]
  },
  {
   "cell_type": "markdown",
   "id": "7e62facd-744e-44cc-9e39-0ebc923f31a6",
   "metadata": {},
   "source": [
    "#### INTERNAL ENERGY\n",
    "$U(N,T)/N = \\langle H \\rangle_{h=0}$"
   ]
  },
  {
   "cell_type": "code",
   "execution_count": 40,
   "id": "fee81ede-17c5-4edc-96ff-c88ed2eb1083",
   "metadata": {},
   "outputs": [
    {
     "data": {
      "text/html": [
       "<div>\n",
       "<style scoped>\n",
       "    .dataframe tbody tr th:only-of-type {\n",
       "        vertical-align: middle;\n",
       "    }\n",
       "\n",
       "    .dataframe tbody tr th {\n",
       "        vertical-align: top;\n",
       "    }\n",
       "\n",
       "    .dataframe thead th {\n",
       "        text-align: right;\n",
       "    }\n",
       "</style>\n",
       "<table border=\"1\" class=\"dataframe\">\n",
       "  <thead>\n",
       "    <tr style=\"text-align: right;\">\n",
       "      <th></th>\n",
       "      <th>TEMPERATURE</th>\n",
       "      <th>U_AVE</th>\n",
       "      <th>ERROR</th>\n",
       "    </tr>\n",
       "  </thead>\n",
       "  <tbody>\n",
       "    <tr>\n",
       "      <th>0</th>\n",
       "      <td>2.00</td>\n",
       "      <td>0.462057</td>\n",
       "      <td>0.000119</td>\n",
       "    </tr>\n",
       "    <tr>\n",
       "      <th>1</th>\n",
       "      <td>1.64</td>\n",
       "      <td>0.543859</td>\n",
       "      <td>0.000142</td>\n",
       "    </tr>\n",
       "    <tr>\n",
       "      <th>2</th>\n",
       "      <td>1.28</td>\n",
       "      <td>0.653591</td>\n",
       "      <td>0.000169</td>\n",
       "    </tr>\n",
       "    <tr>\n",
       "      <th>3</th>\n",
       "      <td>0.92</td>\n",
       "      <td>0.795496</td>\n",
       "      <td>0.000157</td>\n",
       "    </tr>\n",
       "    <tr>\n",
       "      <th>4</th>\n",
       "      <td>0.56</td>\n",
       "      <td>0.951693</td>\n",
       "      <td>0.000333</td>\n",
       "    </tr>\n",
       "    <tr>\n",
       "      <th>5</th>\n",
       "      <td>0.20</td>\n",
       "      <td>0.999995</td>\n",
       "      <td>0.000005</td>\n",
       "    </tr>\n",
       "  </tbody>\n",
       "</table>\n",
       "</div>"
      ],
      "text/plain": [
       "   TEMPERATURE     U_AVE     ERROR\n",
       "0         2.00  0.462057  0.000119\n",
       "1         1.64  0.543859  0.000142\n",
       "2         1.28  0.653591  0.000169\n",
       "3         0.92  0.795496  0.000157\n",
       "4         0.56  0.951693  0.000333\n",
       "5         0.20  0.999995  0.000005"
      ]
     },
     "execution_count": 40,
     "metadata": {},
     "output_type": "execute_result"
    }
   ],
   "source": [
    "file= \"/home/elisa/Scrivania/LSN/nsl_simulator/NSL_SIMULATOR/OUTPUT/InternalEnergy.csv\"\n",
    "df = pd.read_csv(file,sep =\"\\t\")\n",
    "\n",
    "df"
   ]
  },
  {
   "cell_type": "code",
   "execution_count": 41,
   "id": "bfdd4460-55fd-4702-8b49-c9cef3330de7",
   "metadata": {},
   "outputs": [
    {
     "data": {
      "image/png": "[encoded data removed]",
      "text/plain": [
       "<Figure size 640x480 with 1 Axes>"
      ]
     },
     "metadata": {},
     "output_type": "display_data"
    }
   ],
   "source": [
    "plt.plot(T, e)\n",
    "plt.title('Ising 1D, internal energy')\n",
    "plt.xlabel('T')\n",
    "plt.ylabel('U/N')\n",
    "\n",
    "plt.errorbar(df['TEMPERATURE'],df['U_AVE'], yerr = df[\"ERROR\"],marker = 'o')\n",
    "\n",
    "plt.show()\n"
   ]
  },
  {
   "cell_type": "markdown",
   "id": "4d77837f-720d-46d8-a544-06ce0a94602d",
   "metadata": {},
   "source": [
    "#### HEAT CAPACITY\n",
    "$C(N,T) = k_B \\beta^2 (\\langle H^2 \\rangle_{h=0}-\\langle H \\rangle_{h=0}^2)$ "
   ]
  },
  {
   "cell_type": "code",
   "execution_count": 36,
   "id": "e76b58b7-07f2-4104-9a71-c4527d01b815",
   "metadata": {},
   "outputs": [
    {
     "data": {
      "text/html": [
       "<div>\n",
       "<style scoped>\n",
       "    .dataframe tbody tr th:only-of-type {\n",
       "        vertical-align: middle;\n",
       "    }\n",
       "\n",
       "    .dataframe tbody tr th {\n",
       "        vertical-align: top;\n",
       "    }\n",
       "\n",
       "    .dataframe thead th {\n",
       "        text-align: right;\n",
       "    }\n",
       "</style>\n",
       "<table border=\"1\" class=\"dataframe\">\n",
       "  <thead>\n",
       "    <tr style=\"text-align: right;\">\n",
       "      <th></th>\n",
       "      <th>TEMPERATURE</th>\n",
       "      <th>CV_AVE</th>\n",
       "      <th>ERROR</th>\n",
       "    </tr>\n",
       "  </thead>\n",
       "  <tbody>\n",
       "    <tr>\n",
       "      <th>0</th>\n",
       "      <td>1.2500</td>\n",
       "      <td>0.350537</td>\n",
       "      <td>0.000120</td>\n",
       "    </tr>\n",
       "    <tr>\n",
       "      <th>1</th>\n",
       "      <td>1.1975</td>\n",
       "      <td>0.364505</td>\n",
       "      <td>0.000139</td>\n",
       "    </tr>\n",
       "    <tr>\n",
       "      <th>2</th>\n",
       "      <td>1.1450</td>\n",
       "      <td>0.378189</td>\n",
       "      <td>0.000109</td>\n",
       "    </tr>\n",
       "    <tr>\n",
       "      <th>3</th>\n",
       "      <td>1.0925</td>\n",
       "      <td>0.391052</td>\n",
       "      <td>0.000189</td>\n",
       "    </tr>\n",
       "    <tr>\n",
       "      <th>4</th>\n",
       "      <td>1.0400</td>\n",
       "      <td>0.403038</td>\n",
       "      <td>0.000185</td>\n",
       "    </tr>\n",
       "    <tr>\n",
       "      <th>5</th>\n",
       "      <td>0.9875</td>\n",
       "      <td>0.413550</td>\n",
       "      <td>0.000273</td>\n",
       "    </tr>\n",
       "    <tr>\n",
       "      <th>6</th>\n",
       "      <td>0.9350</td>\n",
       "      <td>0.421987</td>\n",
       "      <td>0.000249</td>\n",
       "    </tr>\n",
       "    <tr>\n",
       "      <th>7</th>\n",
       "      <td>0.8825</td>\n",
       "      <td>0.428345</td>\n",
       "      <td>0.000400</td>\n",
       "    </tr>\n",
       "    <tr>\n",
       "      <th>8</th>\n",
       "      <td>0.8300</td>\n",
       "      <td>0.429728</td>\n",
       "      <td>0.000543</td>\n",
       "    </tr>\n",
       "    <tr>\n",
       "      <th>9</th>\n",
       "      <td>0.7775</td>\n",
       "      <td>0.426907</td>\n",
       "      <td>0.000681</td>\n",
       "    </tr>\n",
       "    <tr>\n",
       "      <th>10</th>\n",
       "      <td>0.7250</td>\n",
       "      <td>0.416089</td>\n",
       "      <td>0.001070</td>\n",
       "    </tr>\n",
       "    <tr>\n",
       "      <th>11</th>\n",
       "      <td>0.6725</td>\n",
       "      <td>0.393561</td>\n",
       "      <td>0.000897</td>\n",
       "    </tr>\n",
       "    <tr>\n",
       "      <th>12</th>\n",
       "      <td>0.6200</td>\n",
       "      <td>0.361059</td>\n",
       "      <td>0.001544</td>\n",
       "    </tr>\n",
       "    <tr>\n",
       "      <th>13</th>\n",
       "      <td>0.5675</td>\n",
       "      <td>0.302415</td>\n",
       "      <td>0.002627</td>\n",
       "    </tr>\n",
       "    <tr>\n",
       "      <th>14</th>\n",
       "      <td>0.5150</td>\n",
       "      <td>0.226577</td>\n",
       "      <td>0.002247</td>\n",
       "    </tr>\n",
       "    <tr>\n",
       "      <th>15</th>\n",
       "      <td>0.4625</td>\n",
       "      <td>0.137256</td>\n",
       "      <td>0.002464</td>\n",
       "    </tr>\n",
       "    <tr>\n",
       "      <th>16</th>\n",
       "      <td>0.4100</td>\n",
       "      <td>0.058952</td>\n",
       "      <td>0.002138</td>\n",
       "    </tr>\n",
       "    <tr>\n",
       "      <th>17</th>\n",
       "      <td>0.3575</td>\n",
       "      <td>0.018635</td>\n",
       "      <td>0.001300</td>\n",
       "    </tr>\n",
       "    <tr>\n",
       "      <th>18</th>\n",
       "      <td>0.3050</td>\n",
       "      <td>0.003122</td>\n",
       "      <td>0.000554</td>\n",
       "    </tr>\n",
       "    <tr>\n",
       "      <th>19</th>\n",
       "      <td>0.2525</td>\n",
       "      <td>0.000178</td>\n",
       "      <td>0.000089</td>\n",
       "    </tr>\n",
       "    <tr>\n",
       "      <th>20</th>\n",
       "      <td>0.2000</td>\n",
       "      <td>0.000002</td>\n",
       "      <td>0.000002</td>\n",
       "    </tr>\n",
       "  </tbody>\n",
       "</table>\n",
       "</div>"
      ],
      "text/plain": [
       "    TEMPERATURE    CV_AVE     ERROR\n",
       "0        1.2500  0.350537  0.000120\n",
       "1        1.1975  0.364505  0.000139\n",
       "2        1.1450  0.378189  0.000109\n",
       "3        1.0925  0.391052  0.000189\n",
       "4        1.0400  0.403038  0.000185\n",
       "5        0.9875  0.413550  0.000273\n",
       "6        0.9350  0.421987  0.000249\n",
       "7        0.8825  0.428345  0.000400\n",
       "8        0.8300  0.429728  0.000543\n",
       "9        0.7775  0.426907  0.000681\n",
       "10       0.7250  0.416089  0.001070\n",
       "11       0.6725  0.393561  0.000897\n",
       "12       0.6200  0.361059  0.001544\n",
       "13       0.5675  0.302415  0.002627\n",
       "14       0.5150  0.226577  0.002247\n",
       "15       0.4625  0.137256  0.002464\n",
       "16       0.4100  0.058952  0.002138\n",
       "17       0.3575  0.018635  0.001300\n",
       "18       0.3050  0.003122  0.000554\n",
       "19       0.2525  0.000178  0.000089\n",
       "20       0.2000  0.000002  0.000002"
      ]
     },
     "execution_count": 36,
     "metadata": {},
     "output_type": "execute_result"
    }
   ],
   "source": [
    "file= \"/home/elisa/Scrivania/LSN/nsl_simulator/NSL_SIMULATOR/OUTPUT/CV.csv\"\n",
    "df3 = pd.read_csv(file,sep =\"\\t\")\n",
    "\n",
    "df3"
   ]
  },
  {
   "cell_type": "code",
   "execution_count": 37,
   "id": "68862dcc-9f5c-4f3c-bd90-20c2ed71fd39",
   "metadata": {},
   "outputs": [
    {
     "data": {
      "image/png": "[encoded data removed]",
      "text/plain": [
       "<Figure size 640x480 with 1 Axes>"
      ]
     },
     "metadata": {},
     "output_type": "display_data"
    }
   ],
   "source": [
    "heat=((beta*J)**2)*(((1+thN+(Ns-1)*(th**2)+(Ns-1)*(ch**2)*thN)/(1+thN))-Ns*((th+ch*thN)/(1+thN))**2)\n",
    "plt.plot(T, heat)\n",
    "plt.title('Ising 1D, Heat capacity')\n",
    "plt.xlabel('T')\n",
    "plt.ylabel('C')\n",
    "\n",
    "plt.errorbar(df3['TEMPERATURE'],df3['CV_AVE'], yerr = df3[\"ERROR\"], marker='o')\n",
    "plt.show()"
   ]
  },
  {
   "cell_type": "markdown",
   "id": "e31b03e1-33ed-406b-88ce-7b9c11bb03b3",
   "metadata": {},
   "source": [
    "#### SUSCEPTIBILITY\n",
    "$\\chi(N,T) = \\beta \\langle (\\sum_{i=1,N}s_i)^2 \\rangle_{h=0}$"
   ]
  },
  {
   "cell_type": "code",
   "execution_count": 28,
   "id": "ca640cd9-e4fe-49bc-b9dc-15adcecc0f34",
   "metadata": {},
   "outputs": [
    {
     "data": {
      "text/html": [
       "<div>\n",
       "<style scoped>\n",
       "    .dataframe tbody tr th:only-of-type {\n",
       "        vertical-align: middle;\n",
       "    }\n",
       "\n",
       "    .dataframe tbody tr th {\n",
       "        vertical-align: top;\n",
       "    }\n",
       "\n",
       "    .dataframe thead th {\n",
       "        text-align: right;\n",
       "    }\n",
       "</style>\n",
       "<table border=\"1\" class=\"dataframe\">\n",
       "  <thead>\n",
       "    <tr style=\"text-align: right;\">\n",
       "      <th></th>\n",
       "      <th>TEMPERATURE:</th>\n",
       "      <th>X_AVE:</th>\n",
       "      <th>ERROR:</th>\n",
       "    </tr>\n",
       "  </thead>\n",
       "  <tbody>\n",
       "    <tr>\n",
       "      <th>0</th>\n",
       "      <td>2.00</td>\n",
       "      <td>1.35816</td>\n",
       "      <td>1.924940e-03</td>\n",
       "    </tr>\n",
       "    <tr>\n",
       "      <th>1</th>\n",
       "      <td>1.64</td>\n",
       "      <td>2.05797</td>\n",
       "      <td>4.140100e-03</td>\n",
       "    </tr>\n",
       "    <tr>\n",
       "      <th>2</th>\n",
       "      <td>1.28</td>\n",
       "      <td>3.72578</td>\n",
       "      <td>8.711790e-03</td>\n",
       "    </tr>\n",
       "    <tr>\n",
       "      <th>3</th>\n",
       "      <td>0.92</td>\n",
       "      <td>9.53093</td>\n",
       "      <td>3.367970e-02</td>\n",
       "    </tr>\n",
       "    <tr>\n",
       "      <th>4</th>\n",
       "      <td>0.56</td>\n",
       "      <td>56.41950</td>\n",
       "      <td>3.234440e-01</td>\n",
       "    </tr>\n",
       "    <tr>\n",
       "      <th>5</th>\n",
       "      <td>0.20</td>\n",
       "      <td>250.00000</td>\n",
       "      <td>8.529920e-07</td>\n",
       "    </tr>\n",
       "  </tbody>\n",
       "</table>\n",
       "</div>"
      ],
      "text/plain": [
       "   TEMPERATURE:     X_AVE:        ERROR:\n",
       "0          2.00    1.35816  1.924940e-03\n",
       "1          1.64    2.05797  4.140100e-03\n",
       "2          1.28    3.72578  8.711790e-03\n",
       "3          0.92    9.53093  3.367970e-02\n",
       "4          0.56   56.41950  3.234440e-01\n",
       "5          0.20  250.00000  8.529920e-07"
      ]
     },
     "execution_count": 28,
     "metadata": {},
     "output_type": "execute_result"
    }
   ],
   "source": [
    "file= \"/home/elisa/Scrivania/LSN/nsl_simulator/NSL_SIMULATOR/OUTPUT/Chi.csv\"\n",
    "df1 = pd.read_csv(file,sep =\"\\t\")\n",
    "\n",
    "df1"
   ]
  },
  {
   "cell_type": "code",
   "execution_count": 29,
   "id": "8f9ba088-7e05-4875-964c-a29a92afe010",
   "metadata": {
    "scrolled": true
   },
   "outputs": [
    {
     "data": {
      "image/png": "[encoded data removed]",
      "text/plain": [
       "<Figure size 640x480 with 1 Axes>"
      ]
     },
     "metadata": {},
     "output_type": "display_data"
    }
   ],
   "source": [
    "X = beta*np.exp(2*beta*J)*(1-thN)/(1+thN)\n",
    "plt.plot(T, X)\n",
    "plt.title('Ising 1D, Susceptibility')\n",
    "plt.xlabel('T')\n",
    "\n",
    "plt.errorbar(df1['TEMPERATURE:'],df1['X_AVE:'], yerr = df1[\"ERROR:\"], marker='o')\n",
    "\n",
    "plt.show()"
   ]
  },
  {
   "cell_type": "markdown",
   "id": "08bed953-77fb-4a7d-943d-1f2027b0379e",
   "metadata": {},
   "source": [
    "#### MAGNETIZATION\n",
    "$M(N,T,h=0.02)= \\langle \\sum_{i=1,N}s_i \\rangle_{h=0.02}$"
   ]
  },
  {
   "cell_type": "code",
   "execution_count": 9,
   "id": "19656d1d-622a-4501-9bb4-5bb8ae36c884",
   "metadata": {},
   "outputs": [
    {
     "data": {
      "text/html": [
       "<div>\n",
       "<style scoped>\n",
       "    .dataframe tbody tr th:only-of-type {\n",
       "        vertical-align: middle;\n",
       "    }\n",
       "\n",
       "    .dataframe tbody tr th {\n",
       "        vertical-align: top;\n",
       "    }\n",
       "\n",
       "    .dataframe thead th {\n",
       "        text-align: right;\n",
       "    }\n",
       "</style>\n",
       "<table border=\"1\" class=\"dataframe\">\n",
       "  <thead>\n",
       "    <tr style=\"text-align: right;\">\n",
       "      <th></th>\n",
       "      <th>TEMPERATURE</th>\n",
       "      <th>M_AVE</th>\n",
       "      <th>ERROR</th>\n",
       "    </tr>\n",
       "  </thead>\n",
       "  <tbody>\n",
       "    <tr>\n",
       "      <th>0</th>\n",
       "      <td>2.00</td>\n",
       "      <td>0.027451</td>\n",
       "      <td>0.000292</td>\n",
       "    </tr>\n",
       "    <tr>\n",
       "      <th>1</th>\n",
       "      <td>1.85</td>\n",
       "      <td>0.031594</td>\n",
       "      <td>0.000370</td>\n",
       "    </tr>\n",
       "    <tr>\n",
       "      <th>2</th>\n",
       "      <td>1.70</td>\n",
       "      <td>0.038238</td>\n",
       "      <td>0.000416</td>\n",
       "    </tr>\n",
       "    <tr>\n",
       "      <th>3</th>\n",
       "      <td>1.55</td>\n",
       "      <td>0.046421</td>\n",
       "      <td>0.000603</td>\n",
       "    </tr>\n",
       "    <tr>\n",
       "      <th>4</th>\n",
       "      <td>1.40</td>\n",
       "      <td>0.059309</td>\n",
       "      <td>0.000706</td>\n",
       "    </tr>\n",
       "    <tr>\n",
       "      <th>5</th>\n",
       "      <td>1.25</td>\n",
       "      <td>0.080595</td>\n",
       "      <td>0.000976</td>\n",
       "    </tr>\n",
       "    <tr>\n",
       "      <th>6</th>\n",
       "      <td>1.10</td>\n",
       "      <td>0.113141</td>\n",
       "      <td>0.001261</td>\n",
       "    </tr>\n",
       "    <tr>\n",
       "      <th>7</th>\n",
       "      <td>0.95</td>\n",
       "      <td>0.170869</td>\n",
       "      <td>0.001935</td>\n",
       "    </tr>\n",
       "    <tr>\n",
       "      <th>8</th>\n",
       "      <td>0.80</td>\n",
       "      <td>0.287367</td>\n",
       "      <td>0.002502</td>\n",
       "    </tr>\n",
       "    <tr>\n",
       "      <th>9</th>\n",
       "      <td>0.65</td>\n",
       "      <td>0.541708</td>\n",
       "      <td>0.004363</td>\n",
       "    </tr>\n",
       "    <tr>\n",
       "      <th>10</th>\n",
       "      <td>0.50</td>\n",
       "      <td>0.889868</td>\n",
       "      <td>0.005281</td>\n",
       "    </tr>\n",
       "  </tbody>\n",
       "</table>\n",
       "</div>"
      ],
      "text/plain": [
       "    TEMPERATURE     M_AVE     ERROR\n",
       "0          2.00  0.027451  0.000292\n",
       "1          1.85  0.031594  0.000370\n",
       "2          1.70  0.038238  0.000416\n",
       "3          1.55  0.046421  0.000603\n",
       "4          1.40  0.059309  0.000706\n",
       "5          1.25  0.080595  0.000976\n",
       "6          1.10  0.113141  0.001261\n",
       "7          0.95  0.170869  0.001935\n",
       "8          0.80  0.287367  0.002502\n",
       "9          0.65  0.541708  0.004363\n",
       "10         0.50  0.889868  0.005281"
      ]
     },
     "execution_count": 9,
     "metadata": {},
     "output_type": "execute_result"
    }
   ],
   "source": [
    "file= \"/home/elisa/Scrivania/LSN/nsl_simulator/NSL_SIMULATOR/OUTPUT/Magnetization.csv\"\n",
    "df2 = pd.read_csv(file,sep =\"\\t\")\n",
    "\n",
    "df2"
   ]
  },
  {
   "cell_type": "code",
   "execution_count": 10,
   "id": "c263ae13-492f-40e6-8750-eb695fe20ae6",
   "metadata": {},
   "outputs": [
    {
     "name": "stderr",
     "output_type": "stream",
     "text": [
      "/tmp/ipykernel_7964/1470112090.py:6: RuntimeWarning: overflow encountered in power\n",
      "  Z = l1**Ns + l2**Ns\n",
      "/tmp/ipykernel_7964/1470112090.py:7: RuntimeWarning: overflow encountered in power\n",
      "  M = (np.exp(b*J)*np.sinh(b*h)*((l1**(Ns-1))*(1+np.exp(b*J)*np.cosh(b*h)/np.sqrt(np.exp(2*b*J)*np.cosh(b*h)*np.cosh(b*h)-2*np.sinh(2*b*J)))\n",
      "/tmp/ipykernel_7964/1470112090.py:8: RuntimeWarning: overflow encountered in power\n",
      "  + (l2**(Ns-1))*(1-np.exp(b*J)*np.cosh(b*h)/np.sqrt(np.exp(2*b*J)*np.cosh(b*h)*np.cosh(b*h)-2*np.sinh(2*b*J)))))/(Z)\n",
      "/tmp/ipykernel_7964/1470112090.py:7: RuntimeWarning: invalid value encountered in add\n",
      "  M = (np.exp(b*J)*np.sinh(b*h)*((l1**(Ns-1))*(1+np.exp(b*J)*np.cosh(b*h)/np.sqrt(np.exp(2*b*J)*np.cosh(b*h)*np.cosh(b*h)-2*np.sinh(2*b*J)))\n",
      "/tmp/ipykernel_7964/1470112090.py:7: RuntimeWarning: invalid value encountered in divide\n",
      "  M = (np.exp(b*J)*np.sinh(b*h)*((l1**(Ns-1))*(1+np.exp(b*J)*np.cosh(b*h)/np.sqrt(np.exp(2*b*J)*np.cosh(b*h)*np.cosh(b*h)-2*np.sinh(2*b*J)))\n"
     ]
    },
    {
     "data": {
      "image/png": "[encoded data removed]",
      "text/plain": [
       "<Figure size 640x480 with 1 Axes>"
      ]
     },
     "metadata": {},
     "output_type": "display_data"
    }
   ],
   "source": [
    "h=0.02 #external field\n",
    "b = 1/T\n",
    "\n",
    "l1 = np.exp(b*J)*np.cosh(b*h)+np.sqrt(np.exp(2*b*J)*np.cosh(b*h)*np.cosh(b*h)-2*np.sinh(2*b*J))\n",
    "l2 = np.exp(b*J)*np.cosh(b*h)-np.sqrt(np.exp(2*b*J)*np.cosh(b*h)*np.cosh(b*h)-2*np.sinh(2*b*J))\n",
    "Z = l1**Ns + l2**Ns\n",
    "M = (np.exp(b*J)*np.sinh(b*h)*((l1**(Ns-1))*(1+np.exp(b*J)*np.cosh(b*h)/np.sqrt(np.exp(2*b*J)*np.cosh(b*h)*np.cosh(b*h)-2*np.sinh(2*b*J))) \n",
    "        + (l2**(Ns-1))*(1-np.exp(b*J)*np.cosh(b*h)/np.sqrt(np.exp(2*b*J)*np.cosh(b*h)*np.cosh(b*h)-2*np.sinh(2*b*J)))))/(Z)\n",
    "\n",
    "\n",
    "plt.plot(T, M)\n",
    "plt.title('Ising 1D, magnetization M with h = 0.02')\n",
    "plt.xlabel('T')\n",
    "plt.ylabel('$M$')\n",
    "\n",
    "\n",
    "plt.errorbar(df2['TEMPERATURE'],df2['M_AVE'], yerr = df2[\"ERROR\"], marker='o')\n",
    "plt.show()"
   ]
  },
  {
   "cell_type": "markdown",
   "id": "fefa9f97-b374-4443-b21d-2949bfe566a5",
   "metadata": {},
   "source": [
    "## GIBBS"
   ]
  },
  {
   "cell_type": "code",
   "execution_count": null,
   "id": "02537a85-b730-4240-8c1f-a439a4d4e9d2",
   "metadata": {},
   "outputs": [],
   "source": []
  }
 ],
 "metadata": {
  "kernelspec": {
   "display_name": "Python 3 (ipykernel)",
   "language": "python",
   "name": "python3"
  },
  "language_info": {
   "codemirror_mode": {
    "name": "ipython",
    "version": 3
   },
   "file_extension": ".py",
   "mimetype": "text/x-python",
   "name": "python",
   "nbconvert_exporter": "python",
   "pygments_lexer": "ipython3",
   "version": "3.12.2"
  }
 },
 "nbformat": 4,
 "nbformat_minor": 5
}

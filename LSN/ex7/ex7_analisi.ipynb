{
 "cells": [
  {
   "cell_type": "code",
   "execution_count": 1,
   "id": "79ea5590-8ddd-4236-aa38-f7e938f70a01",
   "metadata": {},
   "outputs": [],
   "source": [
    "import matplotlib\n",
    "import matplotlib.pyplot as plt\n",
    "import pandas as pd\n",
    "from mpl_toolkits.mplot3d import Axes3D\n",
    "import numpy as np\n",
    "import math"
   ]
  },
  {
   "cell_type": "markdown",
   "id": "47823224-04a4-4eb7-9ab0-0ededfb5c1fe",
   "metadata": {},
   "source": [
    "## EQUILIBRATION (MD)\n",
    "Optimal starting temperature: 1.97"
   ]
  },
  {
   "cell_type": "code",
   "execution_count": 22,
   "id": "a829a64a-a2d2-4a73-af2b-fd812df940ae",
   "metadata": {},
   "outputs": [
    {
     "data": {
      "text/html": [
       "<div>\n",
       "<style scoped>\n",
       "    .dataframe tbody tr th:only-of-type {\n",
       "        vertical-align: middle;\n",
       "    }\n",
       "\n",
       "    .dataframe tbody tr th {\n",
       "        vertical-align: top;\n",
       "    }\n",
       "\n",
       "    .dataframe thead th {\n",
       "        text-align: right;\n",
       "    }\n",
       "</style>\n",
       "<table border=\"1\" class=\"dataframe\">\n",
       "  <thead>\n",
       "    <tr style=\"text-align: right;\">\n",
       "      <th></th>\n",
       "      <th>#</th>\n",
       "      <th>BLOCK</th>\n",
       "      <th>ACTUAL_T</th>\n",
       "      <th>T_AVE</th>\n",
       "      <th>ERROR</th>\n",
       "    </tr>\n",
       "  </thead>\n",
       "  <tbody>\n",
       "    <tr>\n",
       "      <th>0</th>\n",
       "      <td>NaN</td>\n",
       "      <td>1</td>\n",
       "      <td>1.97000</td>\n",
       "      <td>1.97000</td>\n",
       "      <td>0.000000</td>\n",
       "    </tr>\n",
       "    <tr>\n",
       "      <th>1</th>\n",
       "      <td>NaN</td>\n",
       "      <td>2</td>\n",
       "      <td>1.96993</td>\n",
       "      <td>1.96996</td>\n",
       "      <td>0.000025</td>\n",
       "    </tr>\n",
       "    <tr>\n",
       "      <th>2</th>\n",
       "      <td>NaN</td>\n",
       "      <td>3</td>\n",
       "      <td>1.96972</td>\n",
       "      <td>1.96988</td>\n",
       "      <td>0.000070</td>\n",
       "    </tr>\n",
       "    <tr>\n",
       "      <th>3</th>\n",
       "      <td>NaN</td>\n",
       "      <td>4</td>\n",
       "      <td>1.96936</td>\n",
       "      <td>1.96975</td>\n",
       "      <td>0.000124</td>\n",
       "    </tr>\n",
       "    <tr>\n",
       "      <th>4</th>\n",
       "      <td>NaN</td>\n",
       "      <td>5</td>\n",
       "      <td>1.96887</td>\n",
       "      <td>1.96958</td>\n",
       "      <td>0.000187</td>\n",
       "    </tr>\n",
       "  </tbody>\n",
       "</table>\n",
       "</div>"
      ],
      "text/plain": [
       "    #  BLOCK  ACTUAL_T    T_AVE     ERROR\n",
       "0 NaN      1   1.97000  1.97000  0.000000\n",
       "1 NaN      2   1.96993  1.96996  0.000025\n",
       "2 NaN      3   1.96972  1.96988  0.000070\n",
       "3 NaN      4   1.96936  1.96975  0.000124\n",
       "4 NaN      5   1.96887  1.96958  0.000187"
      ]
     },
     "execution_count": 22,
     "metadata": {},
     "output_type": "execute_result"
    }
   ],
   "source": [
    "file= \"/home/elisa/Scrivania/LSN/nsl_simulator/NSL_SIMULATOR/OUTPUT/temperature.csv\"\n",
    "df1 = pd.read_csv(file,sep =\"\\t\")\n",
    "df1.head()\n"
   ]
  },
  {
   "cell_type": "code",
   "execution_count": 23,
   "id": "f11aa711-8217-426e-9e94-62e1ce5659a2",
   "metadata": {},
   "outputs": [
    {
     "name": "stdout",
     "output_type": "stream",
     "text": [
      "0.86849\n",
      "1.10151\n"
     ]
    }
   ],
   "source": [
    "print(df1['T_AVE'][0]-df1['T_AVE'][4999])\n",
    "print(df1['T_AVE'][4999])"
   ]
  },
  {
   "cell_type": "code",
   "execution_count": 24,
   "id": "58d1721b-79af-4602-8e8e-bbd6747c86e1",
   "metadata": {
    "scrolled": true
   },
   "outputs": [
    {
     "data": {
      "image/png": "[encoded data removed]",
      "text/plain": [
       "<Figure size 640x480 with 1 Axes>"
      ]
     },
     "metadata": {},
     "output_type": "display_data"
    }
   ],
   "source": [
    "plt.errorbar(df1['BLOCK'],df1['T_AVE'],yerr=df1['ERROR'])\n",
    "plt.hlines(df1['T_AVE'][4999],0,5000,color='red')\n",
    "plt.show()"
   ]
  },
  {
   "cell_type": "markdown",
   "id": "7f8b36e7-0568-49b0-83af-2b0b3ceb0868",
   "metadata": {},
   "source": [
    "## EQUILIBRATION (MC)\n",
    "To obtain acceptance = 0.5 I need delta =0.12"
   ]
  },
  {
   "cell_type": "code",
   "execution_count": 25,
   "id": "4e083866-3b32-4405-8a5d-a9dcced6c8bd",
   "metadata": {},
   "outputs": [
    {
     "data": {
      "text/html": [
       "<div>\n",
       "<style scoped>\n",
       "    .dataframe tbody tr th:only-of-type {\n",
       "        vertical-align: middle;\n",
       "    }\n",
       "\n",
       "    .dataframe tbody tr th {\n",
       "        vertical-align: top;\n",
       "    }\n",
       "\n",
       "    .dataframe thead th {\n",
       "        text-align: right;\n",
       "    }\n",
       "</style>\n",
       "<table border=\"1\" class=\"dataframe\">\n",
       "  <thead>\n",
       "    <tr style=\"text-align: right;\">\n",
       "      <th></th>\n",
       "      <th>#</th>\n",
       "      <th>BLOCK</th>\n",
       "      <th>ACTUAL_T</th>\n",
       "      <th>T_AVE</th>\n",
       "      <th>ERROR</th>\n",
       "    </tr>\n",
       "  </thead>\n",
       "  <tbody>\n",
       "    <tr>\n",
       "      <th>0</th>\n",
       "      <td>NaN</td>\n",
       "      <td>1</td>\n",
       "      <td>0</td>\n",
       "      <td>0</td>\n",
       "      <td>0</td>\n",
       "    </tr>\n",
       "    <tr>\n",
       "      <th>1</th>\n",
       "      <td>NaN</td>\n",
       "      <td>2</td>\n",
       "      <td>0</td>\n",
       "      <td>0</td>\n",
       "      <td>0</td>\n",
       "    </tr>\n",
       "    <tr>\n",
       "      <th>2</th>\n",
       "      <td>NaN</td>\n",
       "      <td>3</td>\n",
       "      <td>0</td>\n",
       "      <td>0</td>\n",
       "      <td>0</td>\n",
       "    </tr>\n",
       "    <tr>\n",
       "      <th>3</th>\n",
       "      <td>NaN</td>\n",
       "      <td>4</td>\n",
       "      <td>0</td>\n",
       "      <td>0</td>\n",
       "      <td>0</td>\n",
       "    </tr>\n",
       "    <tr>\n",
       "      <th>4</th>\n",
       "      <td>NaN</td>\n",
       "      <td>5</td>\n",
       "      <td>0</td>\n",
       "      <td>0</td>\n",
       "      <td>0</td>\n",
       "    </tr>\n",
       "  </tbody>\n",
       "</table>\n",
       "</div>"
      ],
      "text/plain": [
       "    #  BLOCK  ACTUAL_T  T_AVE  ERROR\n",
       "0 NaN      1         0      0      0\n",
       "1 NaN      2         0      0      0\n",
       "2 NaN      3         0      0      0\n",
       "3 NaN      4         0      0      0\n",
       "4 NaN      5         0      0      0"
      ]
     },
     "execution_count": 25,
     "metadata": {},
     "output_type": "execute_result"
    }
   ],
   "source": [
    "file= \"/home/elisa/Scrivania/LSN/nsl_simulator/NSL_SIMULATOR/OUTPUT/temperature.csv\"\n",
    "df1 = pd.read_csv(file,sep =\"\\t\")\n",
    "df1.head()\n"
   ]
  },
  {
   "cell_type": "code",
   "execution_count": null,
   "id": "9d313552-5a1f-48fa-8080-85dc98395334",
   "metadata": {},
   "outputs": [],
   "source": []
  }
 ],
 "metadata": {
  "kernelspec": {
   "display_name": "Python 3 (ipykernel)",
   "language": "python",
   "name": "python3"
  },
  "language_info": {
   "codemirror_mode": {
    "name": "ipython",
    "version": 3
   },
   "file_extension": ".py",
   "mimetype": "text/x-python",
   "name": "python",
   "nbconvert_exporter": "python",
   "pygments_lexer": "ipython3",
   "version": "3.12.2"
  }
 },
 "nbformat": 4,
 "nbformat_minor": 5
}

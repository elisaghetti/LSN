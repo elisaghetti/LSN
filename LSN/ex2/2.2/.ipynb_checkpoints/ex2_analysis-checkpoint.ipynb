{
 "cells": [
  {
   "cell_type": "code",
   "execution_count": 8,
   "id": "00c75c11",
   "metadata": {},
   "outputs": [],
   "source": [
    "import matplotlib\n",
    "import matplotlib.pyplot as plt\n",
    "import numpy as np\n",
    "import math"
   ]
  },
  {
   "cell_type": "code",
   "execution_count": 9,
   "id": "41b3e0f6",
   "metadata": {},
   "outputs": [],
   "source": [
    "N=100000;\n",
    "N_blocks= 1000; \n",
    "n= N/N_blocks;\n",
    "\n",
    "x = np.arange(N_blocks) * n  "
   ]
  },
  {
   "cell_type": "code",
   "execution_count": 20,
   "id": "610486f9",
   "metadata": {},
   "outputs": [],
   "source": [
    "with open(\"integral.txt\", 'r') as file:\n",
    "    numbers = np.array([float(line.strip()) for line in file if line.strip()])\n",
    "    \n",
    "with open(\"errors.txt\", 'r') as file:\n",
    "    err_prog = np.array([float(line.strip()) for line in file if line.strip()])\n"
   ]
  },
  {
   "cell_type": "code",
   "execution_count": 22,
   "id": "e78e33b4",
   "metadata": {},
   "outputs": [
    {
     "data": {
      "text/plain": [
       "<function matplotlib.pyplot.show(close=None, block=None)>"
      ]
     },
     "execution_count": 22,
     "metadata": {},
     "output_type": "execute_result"
    },
    {
     "data": {
      "image/png": "[encoded data removed]",
      "text/plain": [
       "<Figure size 432x288 with 1 Axes>"
      ]
     },
     "metadata": {
      "needs_background": "light"
     },
     "output_type": "display_data"
    }
   ],
   "source": [
    "plt.figure()\n",
    "plt.errorbar(x, numbers, yerr=err_prog, ecolor=\"red\", fmt='o', capsize=5, label=\"Data with Error Bars\")\n",
    "\n",
    "plt.show"
   ]
  },
  {
   "cell_type": "raw",
   "id": "e64d1a87-6f69-478f-a39c-1bf4435d2706",
   "metadata": {},
   "source": [
    "RANDOM WALK"
   ]
  },
  {
   "cell_type": "code",
   "execution_count": 1,
   "id": "021076b0-0b31-460e-8c96-eacd4ff7d324",
   "metadata": {},
   "outputs": [
    {
     "ename": "NameError",
     "evalue": "name 'x' is not defined",
     "output_type": "error",
     "traceback": [
      "\u001b[0;31m---------------------------------------------------------------------------\u001b[0m",
      "\u001b[0;31mNameError\u001b[0m                                 Traceback (most recent call last)",
      "Cell \u001b[0;32mIn[1], line 5\u001b[0m\n\u001b[1;32m      2\u001b[0m \u001b[38;5;28;01mfor\u001b[39;00m line \u001b[38;5;129;01min\u001b[39;00m file:\n\u001b[1;32m      3\u001b[0m     \u001b[38;5;66;03m# Step 2: Dividi ogni linea in 3 numeri\u001b[39;00m\n\u001b[1;32m      4\u001b[0m     coordinates \u001b[38;5;241m=\u001b[39m line\u001b[38;5;241m.\u001b[39msplit()  \u001b[38;5;66;03m# split su spazi o tabulazioni\u001b[39;00m\n\u001b[0;32m----> 5\u001b[0m     x\u001b[38;5;241m.\u001b[39mappend(\u001b[38;5;28mfloat\u001b[39m(coordinates[\u001b[38;5;241m0\u001b[39m]))  \u001b[38;5;66;03m# aggiungi il valore x\u001b[39;00m\n\u001b[1;32m      6\u001b[0m     y\u001b[38;5;241m.\u001b[39mappend(\u001b[38;5;28mfloat\u001b[39m(coordinates[\u001b[38;5;241m1\u001b[39m]))  \u001b[38;5;66;03m# aggiungi il valore y\u001b[39;00m\n\u001b[1;32m      7\u001b[0m     z\u001b[38;5;241m.\u001b[39mappend(\u001b[38;5;28mfloat\u001b[39m(coordinates[\u001b[38;5;241m2\u001b[39m]))\n",
      "\u001b[0;31mNameError\u001b[0m: name 'x' is not defined"
     ]
    }
   ],
   "source": [
    "x = []\n",
    "y = []\n",
    "z = []\n",
    "with open('RandomWalk.txt', 'r') as file:\n",
    "    for line in file:\n",
    "        # Step 2: Dividi ogni linea in 3 numeri\n",
    "        coordinates = line.split()  # split su spazi o tabulazioni\n",
    "        x.append(float(coordinates[0]))  # aggiungi il valore x\n",
    "        y.append(float(coordinates[1]))  # aggiungi il valore y\n",
    "        z.append(float(coordinates[2]))  # aggiungi il valore z"
   ]
  },
  {
   "cell_type": "code",
   "execution_count": null,
   "id": "075a792c-086c-460e-9689-53d779f863d7",
   "metadata": {},
   "outputs": [],
   "source": []
  }
 ],
 "metadata": {
  "kernelspec": {
   "display_name": "Python 3 (ipykernel)",
   "language": "python",
   "name": "python3"
  },
  "language_info": {
   "codemirror_mode": {
    "name": "ipython",
    "version": 3
   },
   "file_extension": ".py",
   "mimetype": "text/x-python",
   "name": "python",
   "nbconvert_exporter": "python",
   "pygments_lexer": "ipython3",
   "version": "3.12.2"
  }
 },
 "nbformat": 4,
 "nbformat_minor": 5
}

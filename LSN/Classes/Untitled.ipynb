{
 "cells": [
  {
   "cell_type": "raw",
   "id": "384ad80b-6e8f-4f62-8e7c-132515ec823f",
   "metadata": {},
   "source": [
    "ES 1.01: calcolo media evarianza"
   ]
  },
  {
   "cell_type": "code",
   "execution_count": 1,
   "id": "a395e424-9c84-42f2-a587-48b6c1a27f9f",
   "metadata": {},
   "outputs": [],
   "source": [
    "import matplotlib\n",
    "import matplotlib.pyplot as plt\n",
    "import numpy as np\n",
    "import math"
   ]
  },
  {
   "cell_type": "code",
   "execution_count": 2,
   "id": "ee2843a8-ad0f-4ad5-bf60-c89b0d2ddf35",
   "metadata": {},
   "outputs": [],
   "source": [
    "M=100000              # Total number of throws\n",
    "N=100                 # Number of blocks\n",
    "L=int(M/N)  \n",
    "\n",
    "x = np.arange(N) * L "
   ]
  },
  {
   "cell_type": "raw",
   "id": "33add6cc-e5f0-4201-adc2-dbdda1accd97",
   "metadata": {},
   "source": [
    "plot media"
   ]
  },
  {
   "cell_type": "code",
   "execution_count": 3,
   "id": "aa5e3211-02c0-4fce-9624-b1e6568c89e9",
   "metadata": {},
   "outputs": [
    {
     "ename": "FileNotFoundError",
     "evalue": "[Errno 2] No such file or directory: 'average.txt'",
     "output_type": "error",
     "traceback": [
      "\u001b[0;31m---------------------------------------------------------------------------\u001b[0m",
      "\u001b[0;31mFileNotFoundError\u001b[0m                         Traceback (most recent call last)",
      "Cell \u001b[0;32mIn[3], line 2\u001b[0m\n\u001b[1;32m      1\u001b[0m \u001b[38;5;66;03m# Read data from files\u001b[39;00m\n\u001b[0;32m----> 2\u001b[0m \u001b[38;5;28;01mwith\u001b[39;00m \u001b[38;5;28mopen\u001b[39m(\u001b[38;5;124m\"\u001b[39m\u001b[38;5;124maverage.txt\u001b[39m\u001b[38;5;124m\"\u001b[39m, \u001b[38;5;124m'\u001b[39m\u001b[38;5;124mr\u001b[39m\u001b[38;5;124m'\u001b[39m) \u001b[38;5;28;01mas\u001b[39;00m file:\n\u001b[1;32m      3\u001b[0m     numbers \u001b[38;5;241m=\u001b[39m np\u001b[38;5;241m.\u001b[39marray([\u001b[38;5;28mfloat\u001b[39m(line\u001b[38;5;241m.\u001b[39mstrip()) \u001b[38;5;28;01mfor\u001b[39;00m line \u001b[38;5;129;01min\u001b[39;00m file \u001b[38;5;28;01mif\u001b[39;00m line\u001b[38;5;241m.\u001b[39mstrip()])\n\u001b[1;32m      5\u001b[0m \u001b[38;5;28;01mwith\u001b[39;00m \u001b[38;5;28mopen\u001b[39m(\u001b[38;5;124m\"\u001b[39m\u001b[38;5;124merrors.txt\u001b[39m\u001b[38;5;124m\"\u001b[39m, \u001b[38;5;124m'\u001b[39m\u001b[38;5;124mr\u001b[39m\u001b[38;5;124m'\u001b[39m) \u001b[38;5;28;01mas\u001b[39;00m file:\n",
      "File \u001b[0;32m~/miniconda3/lib/python3.12/site-packages/IPython/core/interactiveshell.py:324\u001b[0m, in \u001b[0;36m_modified_open\u001b[0;34m(file, *args, **kwargs)\u001b[0m\n\u001b[1;32m    317\u001b[0m \u001b[38;5;28;01mif\u001b[39;00m file \u001b[38;5;129;01min\u001b[39;00m {\u001b[38;5;241m0\u001b[39m, \u001b[38;5;241m1\u001b[39m, \u001b[38;5;241m2\u001b[39m}:\n\u001b[1;32m    318\u001b[0m     \u001b[38;5;28;01mraise\u001b[39;00m \u001b[38;5;167;01mValueError\u001b[39;00m(\n\u001b[1;32m    319\u001b[0m         \u001b[38;5;124mf\u001b[39m\u001b[38;5;124m\"\u001b[39m\u001b[38;5;124mIPython won\u001b[39m\u001b[38;5;124m'\u001b[39m\u001b[38;5;124mt let you open fd=\u001b[39m\u001b[38;5;132;01m{\u001b[39;00mfile\u001b[38;5;132;01m}\u001b[39;00m\u001b[38;5;124m by default \u001b[39m\u001b[38;5;124m\"\u001b[39m\n\u001b[1;32m    320\u001b[0m         \u001b[38;5;124m\"\u001b[39m\u001b[38;5;124mas it is likely to crash IPython. If you know what you are doing, \u001b[39m\u001b[38;5;124m\"\u001b[39m\n\u001b[1;32m    321\u001b[0m         \u001b[38;5;124m\"\u001b[39m\u001b[38;5;124myou can use builtins\u001b[39m\u001b[38;5;124m'\u001b[39m\u001b[38;5;124m open.\u001b[39m\u001b[38;5;124m\"\u001b[39m\n\u001b[1;32m    322\u001b[0m     )\n\u001b[0;32m--> 324\u001b[0m \u001b[38;5;28;01mreturn\u001b[39;00m io_open(file, \u001b[38;5;241m*\u001b[39margs, \u001b[38;5;241m*\u001b[39m\u001b[38;5;241m*\u001b[39mkwargs)\n",
      "\u001b[0;31mFileNotFoundError\u001b[0m: [Errno 2] No such file or directory: 'average.txt'"
     ]
    }
   ],
   "source": [
    "# Read data from files\n",
    "with open(\"average.txt\", 'r') as file:\n",
    "    numbers = np.array([float(line.strip()) for line in file if line.strip()])\n",
    "\n",
    "with open(\"errors.txt\", 'r') as file:\n",
    "    err_prog = np.array([float(line.strip()) for line in file if line.strip()])\n",
    "\n",
    "# Plot with error bars\n",
    "plt.figure()\n",
    "\n",
    "plt.errorbar(x, numbers - 0.5, yerr=err_prog, fmt='o', capsize=5, label=\"Data with Error Bars\")\n",
    "\n",
    "# Labels and grid\n",
    "plt.xlabel('#throws')\n",
    "plt.ylabel('<r> - 1/2')\n",
    "plt.grid(True)\n",
    "plt.legend()"
   ]
  },
  {
   "cell_type": "raw",
   "id": "20165d2e-edeb-42db-a799-3632f31f56dc",
   "metadata": {},
   "source": [
    "plot varianza"
   ]
  },
  {
   "cell_type": "code",
   "execution_count": null,
   "id": "7939ff29-7e07-4bd4-a604-e4fd224f2b87",
   "metadata": {},
   "outputs": [],
   "source": [
    "x1 = np.arange(N) * L   \n",
    "with open(\"variance.txt\", 'r') as file:\n",
    "    var_numbers = np.array([float(line.strip()) for line in file if line.strip()])\n",
    "\n",
    "with open(\"errors.txt\", 'r') as file:\n",
    "    var_err_prog = np.array([float(line.strip()) for line in file if line.strip()])\n",
    "\n",
    "plt.figure()\n",
    "# Plot with error bars\n",
    "plt.errorbar(x1, var_numbers - 1/12, yerr=var_err_prog, fmt='o', capsize=5, label=\"Data with Error Bars\")\n",
    "\n",
    "# Labels and grid\n",
    "plt.xlabel('#throws')\n",
    "plt.ylabel('<r> - 1/12')\n",
    "plt.grid(True)\n",
    "plt.legend()"
   ]
  },
  {
   "cell_type": "raw",
   "id": "062764fe-0b19-4ef4-8ac8-e60d5b18514a",
   "metadata": {},
   "source": [
    "CHI QUADRO"
   ]
  },
  {
   "cell_type": "code",
   "execution_count": null,
   "id": "0d0e71a3-277e-4d87-858c-8b4963002c21",
   "metadata": {},
   "outputs": [],
   "source": [
    "with open(\"Chi.txt\", 'r') as file:\n",
    "    chi_squared = np.array([float(line.strip()) for line in file if line.strip()])\n",
    "\n",
    "x_values = np.linspace(0, 1, len(chi_squared))\n",
    "plt.figure()\n",
    "plt.scatter(x_values,chi_squared)\n",
    "plt.figure()\n",
    "plt.hist(chi_squared, bins=30)\n",
    "plt.xlabel('Chi-squared values')\n",
    "plt.ylabel('Frequency')\n",
    "plt.title('Chi-squared Histogram')\n",
    "plt.grid(True)\n",
    "plt.show()"
   ]
  },
  {
   "cell_type": "raw",
   "id": "8f5ec708-7fad-44e8-994a-160be9e85a6f",
   "metadata": {},
   "source": [
    "1.2: distribuzioni exp e cauchy"
   ]
  },
  {
   "cell_type": "code",
   "execution_count": null,
   "id": "bcc96f0f-72e3-4533-9901-e06403f1fec5",
   "metadata": {},
   "outputs": [],
   "source": [
    "file_path = \"expo.txt\"  # Cambia con il tuo file\n",
    "data = np.loadtxt(file_path)\n",
    "\n",
    "colors = mpl.colormaps['viridis']\n",
    "\n",
    "for walk_id in range(num_walks_to_plot):\n",
    "    # Seleziona solo le righe corrispondenti al random walk attuale\n",
    "    walk_data = data[data[:, 0] == walk_id]\n",
    "\n",
    "    x= data[:,1]\n",
    "\n",
    "    plt.hist(x, bins=30)\n",
    "\n",
    "    "
   ]
  }
 ],
 "metadata": {
  "kernelspec": {
   "display_name": "Python 3 (ipykernel)",
   "language": "python",
   "name": "python3"
  },
  "language_info": {
   "codemirror_mode": {
    "name": "ipython",
    "version": 3
   },
   "file_extension": ".py",
   "mimetype": "text/x-python",
   "name": "python",
   "nbconvert_exporter": "python",
   "pygments_lexer": "ipython3",
   "version": "3.12.2"
  }
 },
 "nbformat": 4,
 "nbformat_minor": 5
}
